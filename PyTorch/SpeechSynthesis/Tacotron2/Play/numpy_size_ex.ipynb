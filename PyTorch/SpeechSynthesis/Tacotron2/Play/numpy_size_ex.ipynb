{
 "cells": [
  {
   "cell_type": "markdown",
   "metadata": {},
   "source": [
    "https://numpy.org/doc/stable/reference/generated/numpy.tensordot.html"
   ]
  },
  {
   "cell_type": "code",
   "execution_count": 1,
   "metadata": {},
   "outputs": [],
   "source": [
    "import numpy as np"
   ]
  },
  {
   "cell_type": "code",
   "execution_count": 10,
   "metadata": {},
   "outputs": [
    {
     "name": "stdout",
     "output_type": "stream",
     "text": [
      "(5, 4)\n",
      "[[1140 1185 1230 1275]\n",
      " [2940 3085 3230 3375]\n",
      " [4740 4985 5230 5475]\n",
      " [6540 6885 7230 7575]\n",
      " [8340 8785 9230 9675]]\n"
     ]
    }
   ],
   "source": [
    "a = np.arange(50).reshape(5,10)\n",
    "b = np.arange(40).reshape(10,4)\n",
    "c = np.tensordot(a,b, axes=1)     # a기준 축1 ==>> (5,10)*(10,4)\n",
    "\n",
    "print(c.shape)\n",
    "print(c)"
   ]
  },
  {
   "cell_type": "code",
   "execution_count": 14,
   "metadata": {},
   "outputs": [
    {
     "name": "stdout",
     "output_type": "stream",
     "text": [
      "(5, 10, 10, 4)\n"
     ]
    }
   ],
   "source": [
    "a = np.arange(50).reshape(5,10)\n",
    "b = np.arange(40).reshape(10,4)\n",
    "c = np.tensordot(a,b, axes=0)     # a기준 축0 ==>> (5,10)*(10,4)\n",
    "\n",
    "print(c.shape)"
   ]
  },
  {
   "cell_type": "code",
   "execution_count": 15,
   "metadata": {},
   "outputs": [
    {
     "name": "stdout",
     "output_type": "stream",
     "text": [
      "(10, 4, 5, 10)\n"
     ]
    }
   ],
   "source": [
    "a = np.arange(50).reshape(5,10)\n",
    "b = np.arange(40).reshape(10,4)\n",
    "c = np.tensordot(b,a, axes=0)     # b기준 축0 ==>> (10,4)*(5,10)\n",
    "\n",
    "print(c.shape)"
   ]
  },
  {
   "cell_type": "code",
   "execution_count": null,
   "metadata": {},
   "outputs": [],
   "source": []
  }
 ],
 "metadata": {
  "kernelspec": {
   "display_name": "aiffel",
   "language": "python",
   "name": "aiffel"
  },
  "language_info": {
   "codemirror_mode": {
    "name": "ipython",
    "version": 3
   },
   "file_extension": ".py",
   "mimetype": "text/x-python",
   "name": "python",
   "nbconvert_exporter": "python",
   "pygments_lexer": "ipython3",
   "version": "3.7.6"
  }
 },
 "nbformat": 4,
 "nbformat_minor": 4
}
