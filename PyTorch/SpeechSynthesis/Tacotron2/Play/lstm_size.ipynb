{
 "cells": [
  {
   "cell_type": "markdown",
   "metadata": {},
   "source": [
    "\n",
    "LSTM(10, 20, 2) --> 여기서 (input_size, hidden_size, num_layers)     \n",
    "INPUT matrix는 (3, 5, 10) 입니다. --> 여기서 (배치사이즈, seq사이즈, 입력사이즈)    \n",
    "이렇게 LSTM 연산을 하게 되면은 3개의 결과값이 나오는데, output, hidden, cell  이 나오는데, 행렬이 어떤 형태로 나올까요?\n",
    "    \n",
    "참조는 https://pytorch.org/docs/stable/generated/torch.nn.LSTM.html "
   ]
  },
  {
   "cell_type": "code",
   "execution_count": null,
   "metadata": {},
   "outputs": [],
   "source": []
  }
 ],
 "metadata": {
  "kernelspec": {
   "display_name": "taco2",
   "language": "python",
   "name": "tacotron2"
  },
  "language_info": {
   "codemirror_mode": {
    "name": "ipython",
    "version": 3
   },
   "file_extension": ".py",
   "mimetype": "text/x-python",
   "name": "python",
   "nbconvert_exporter": "python",
   "pygments_lexer": "ipython3",
   "version": "3.6.12"
  }
 },
 "nbformat": 4,
 "nbformat_minor": 4
}
